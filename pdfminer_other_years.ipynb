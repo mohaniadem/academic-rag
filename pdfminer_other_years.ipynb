{
 "cells": [
  {
   "cell_type": "code",
   "execution_count": 2,
   "metadata": {},
   "outputs": [],
   "source": [
    "parsed_file= '/home/jovyan/work/academic-rag/arxiv_parsed.json'"
   ]
  },
  {
   "cell_type": "code",
   "execution_count": 1,
   "metadata": {},
   "outputs": [],
   "source": [
    "import random\n",
    "import json"
   ]
  },
  {
   "cell_type": "code",
   "execution_count": 3,
   "metadata": {},
   "outputs": [],
   "source": [
    "def select_random_arxiv_ids(id=\"070\", count=100):\n",
    "    arxiv_ids_0707 = []\n",
    "    \n",
    "    with open(parsed_file, 'r') as file:\n",
    "        data = json.load(file)\n",
    "        \n",
    "        for arxiv_id, record in data.items():\n",
    "            date_str = record.get('id')\n",
    "            if date_str.startswith(id):  \n",
    "                arxiv_ids_0707.append(arxiv_id)\n",
    "    \n",
    "    if len(arxiv_ids_0707) >= count:\n",
    "        selected_ids = random.sample(arxiv_ids_0707, count)\n",
    "    else:\n",
    "        selected_ids = arxiv_ids_0707\n",
    "    \n",
    "    return selected_ids"
   ]
  },
  {
   "cell_type": "code",
   "execution_count": 4,
   "metadata": {},
   "outputs": [],
   "source": [
    "arxiv_ids_0707 = select_random_arxiv_ids()"
   ]
  },
  {
   "cell_type": "code",
   "execution_count": 16,
   "metadata": {},
   "outputs": [],
   "source": [
    "pdf_base_dir = '/home/jovyan/shared/notebooks/academic-rag-data/pdfupload/'\n",
    "output_base_dir = '/home/jovyan/work/academic-rag/pdfminer_output_0707/'"
   ]
  },
  {
   "cell_type": "code",
   "execution_count": 18,
   "metadata": {},
   "outputs": [],
   "source": [
    "def find_pdf_path(pdf_base_dir, arxiv_id):\n",
    "    target_filename = arxiv_id + 'v1.pdf'\n",
    "    for root, dirs, files in os.walk(pdf_base_dir):\n",
    "        if target_filename in files:\n",
    "            return os.path.join(root, target_filename)\n",
    "    return None"
   ]
  },
  {
   "cell_type": "code",
   "execution_count": 19,
   "metadata": {},
   "outputs": [],
   "source": [
    "def parse_pdfs(arxiv_ids):\n",
    "    for arxiv_id in arxiv_ids:\n",
    "\n",
    "        article_path = find_pdf_path(pdf_base_dir, arxiv_id)\n",
    "        \n",
    "        if article_path:\n",
    "           \n",
    "            output_path = os.path.join(output_base_dir, arxiv_id + '_output_file.txt')\n",
    "            \n",
    "            try:\n",
    "              \n",
    "                text = extract_text(article_path)\n",
    "                \n",
    "                with open(output_path, 'w', encoding='utf-8') as file:\n",
    "                    file.write(text)\n",
    "                \n",
    "                print(f\"Successfully processed {arxiv_id}\")\n",
    "            except Exception as e:\n",
    "                print(f\"Error processing {arxiv_id}: {e}\")\n",
    "        else:\n",
    "            print(f\"File not found for {arxiv_id}\")"
   ]
  },
  {
   "cell_type": "code",
   "execution_count": 36,
   "metadata": {},
   "outputs": [
    {
     "name": "stdout",
     "output_type": "stream",
     "text": [
      "Successfully processed 0705.2973\n",
      "Successfully processed 0704.2390\n",
      "Successfully processed 0709.3104\n",
      "Successfully processed 0705.4343\n",
      "Successfully processed 0704.0349\n",
      "Successfully processed 0704.3540\n",
      "Successfully processed 0705.0663\n",
      "Successfully processed 0706.4121\n",
      "Successfully processed 0704.1228\n",
      "Successfully processed 0704.0404\n",
      "Successfully processed 0709.0079\n",
      "Successfully processed 0707.1287\n",
      "Successfully processed 0708.2070\n",
      "Successfully processed 0707.0105\n",
      "Successfully processed 0709.3571\n",
      "Successfully processed 0706.0895\n",
      "Successfully processed 0707.2356\n",
      "Successfully processed 0708.3641\n",
      "Successfully processed 0709.3986\n",
      "Successfully processed 0709.2533\n",
      "Successfully processed 0709.3776\n",
      "Successfully processed 0705.4334\n",
      "Successfully processed 0707.2589\n",
      "Successfully processed 0709.1249\n",
      "Successfully processed 0704.3846\n",
      "Successfully processed 0706.2221\n",
      "Successfully processed 0706.4026\n",
      "Successfully processed 0707.2735\n",
      "Successfully processed 0706.3162\n",
      "Successfully processed 0705.4304\n",
      "Successfully processed 0708.0580\n",
      "Successfully processed 0706.0935\n",
      "Successfully processed 0708.0781\n",
      "Successfully processed 0705.0193\n",
      "Successfully processed 0705.1843\n",
      "Successfully processed 0706.2206\n",
      "Successfully processed 0706.0160\n",
      "Successfully processed 0705.0370\n",
      "Successfully processed 0707.3510\n",
      "Successfully processed 0706.2090\n",
      "Successfully processed 0707.2817\n",
      "Successfully processed 0704.0167\n",
      "Successfully processed 0708.1651\n",
      "Successfully processed 0707.1549\n",
      "Successfully processed 0704.0490\n",
      "Successfully processed 0708.4342\n",
      "Successfully processed 0704.2876\n",
      "Successfully processed 0707.2027\n",
      "Successfully processed 0707.1670\n",
      "Successfully processed 0709.3866\n",
      "Successfully processed 0708.1484\n",
      "Successfully processed 0707.0721\n",
      "Successfully processed 0709.2087\n",
      "Successfully processed 0705.3097\n",
      "Successfully processed 0705.1583\n",
      "Successfully processed 0704.2040\n",
      "Successfully processed 0704.2495\n",
      "Successfully processed 0708.0081\n",
      "Successfully processed 0707.1382\n",
      "Successfully processed 0705.2042\n",
      "Successfully processed 0709.1804\n",
      "Successfully processed 0709.0927\n",
      "Successfully processed 0706.2685\n",
      "Successfully processed 0709.0626\n",
      "Successfully processed 0707.0375\n",
      "Successfully processed 0708.0847\n",
      "Successfully processed 0705.1863\n",
      "Successfully processed 0707.0638\n",
      "Successfully processed 0708.1330\n",
      "Successfully processed 0705.0402\n",
      "Successfully processed 0708.0877\n",
      "Successfully processed 0707.0958\n",
      "Successfully processed 0705.4047\n",
      "Successfully processed 0707.0307\n",
      "Successfully processed 0707.2067\n",
      "Successfully processed 0709.0068\n",
      "Successfully processed 0707.2478\n",
      "Successfully processed 0704.3499\n",
      "Successfully processed 0704.2355\n",
      "Successfully processed 0707.0791\n",
      "Successfully processed 0705.3480\n",
      "Successfully processed 0706.3718\n",
      "Successfully processed 0709.0396\n",
      "Successfully processed 0706.3688\n",
      "Successfully processed 0707.0239\n",
      "Successfully processed 0705.0369\n",
      "Successfully processed 0706.0771\n",
      "Successfully processed 0705.1069\n",
      "Successfully processed 0708.1846\n",
      "Successfully processed 0708.4257\n",
      "Successfully processed 0704.1092\n",
      "Successfully processed 0708.1485\n",
      "Successfully processed 0708.2134\n",
      "Successfully processed 0705.0533\n",
      "Successfully processed 0707.3519\n",
      "Successfully processed 0704.3653\n",
      "Successfully processed 0709.2355\n",
      "Successfully processed 0708.3645\n",
      "Successfully processed 0705.1185\n",
      "Successfully processed 0707.1272\n"
     ]
    }
   ],
   "source": [
    "parse_pdfs(arxiv_ids_0707)"
   ]
  }
 ],
 "metadata": {
  "kernelspec": {
   "display_name": "atac-seq-0.1.0",
   "language": "python",
   "name": "python3"
  },
  "language_info": {
   "codemirror_mode": {
    "name": "ipython",
    "version": 3
   },
   "file_extension": ".py",
   "mimetype": "text/x-python",
   "name": "python",
   "nbconvert_exporter": "python",
   "pygments_lexer": "ipython3",
   "version": "3.8.15"
  }
 },
 "nbformat": 4,
 "nbformat_minor": 2
}
